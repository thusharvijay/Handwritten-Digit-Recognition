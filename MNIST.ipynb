{
 "cells": [
  {
   "cell_type": "code",
   "execution_count": 1,
   "id": "f8b8f8fc-3e58-4c28-9e35-c9384280b701",
   "metadata": {},
   "outputs": [],
   "source": [
    "import numpy as np\n",
    "import pandas as pd"
   ]
  },
  {
   "cell_type": "code",
   "execution_count": 17,
   "id": "b3e579f3-66c9-4ee0-bac7-af1bb790a63d",
   "metadata": {},
   "outputs": [],
   "source": [
    "from tensorflow.keras import datasets"
   ]
  },
  {
   "cell_type": "code",
   "execution_count": 21,
   "id": "9f6a4986-bf36-4153-90a8-7fd52f2cbae9",
   "metadata": {},
   "outputs": [
    {
     "name": "stdout",
     "output_type": "stream",
     "text": [
      "Downloading data from https://storage.googleapis.com/tensorflow/tf-keras-datasets/mnist.npz\n",
      "\u001b[1m11490434/11490434\u001b[0m \u001b[32m━━━━━━━━━━━━━━━━━━━━\u001b[0m\u001b[37m\u001b[0m \u001b[1m5s\u001b[0m 0us/step\n"
     ]
    }
   ],
   "source": [
    "(x_train, y_train), (x_test, y_test) = datasets.mnist.load_data()"
   ]
  },
  {
   "cell_type": "code",
   "execution_count": 25,
   "id": "ac73c6f5-6ab9-4346-b84f-327e5c4f9806",
   "metadata": {},
   "outputs": [
    {
     "data": {
      "text/plain": [
       "(10000, 28, 28)"
      ]
     },
     "execution_count": 25,
     "metadata": {},
     "output_type": "execute_result"
    }
   ],
   "source": [
    "x_test.shape"
   ]
  },
  {
   "cell_type": "code",
   "execution_count": 29,
   "id": "9c9c3a38-3ca9-4239-b11f-8ad967574202",
   "metadata": {},
   "outputs": [
    {
     "data": {
      "text/plain": [
       "(60000, 28, 28)"
      ]
     },
     "execution_count": 29,
     "metadata": {},
     "output_type": "execute_result"
    }
   ],
   "source": [
    "x_train.shape"
   ]
  },
  {
   "cell_type": "code",
   "execution_count": 31,
   "id": "f87bc902-b421-4eb6-97a7-3e69fff74b07",
   "metadata": {},
   "outputs": [],
   "source": [
    "width, height = 28, 28\n",
    "input_shape = (width, height, 1)"
   ]
  },
  {
   "cell_type": "code",
   "execution_count": 35,
   "id": "21f43093-8698-4633-ab2d-bcb205c85a79",
   "metadata": {},
   "outputs": [
    {
     "data": {
      "text/plain": [
       "(28, 28, 1)"
      ]
     },
     "execution_count": 35,
     "metadata": {},
     "output_type": "execute_result"
    }
   ],
   "source": [
    "input_shape"
   ]
  },
  {
   "cell_type": "code",
   "execution_count": 37,
   "id": "699399bf-bff5-4b8d-81ce-bba22de7442c",
   "metadata": {},
   "outputs": [],
   "source": [
    "x_train = x_train.reshape(x_train.shape[0], width, height, 1)\n",
    "x_test = x_test.reshape(x_test.shape[0], width, height, 1)"
   ]
  },
  {
   "cell_type": "code",
   "execution_count": 39,
   "id": "9ba3a6b7-b4c4-4dfa-af53-15e9813bcee0",
   "metadata": {},
   "outputs": [
    {
     "data": {
      "text/plain": [
       "(60000, 28, 28, 1)"
      ]
     },
     "execution_count": 39,
     "metadata": {},
     "output_type": "execute_result"
    }
   ],
   "source": [
    "x_train.shape"
   ]
  },
  {
   "cell_type": "code",
   "execution_count": 41,
   "id": "bd09cc74-bce5-4705-848e-184f281ac84b",
   "metadata": {},
   "outputs": [
    {
     "data": {
      "text/plain": [
       "(60000,)"
      ]
     },
     "execution_count": 41,
     "metadata": {},
     "output_type": "execute_result"
    }
   ],
   "source": [
    "y_train.shape"
   ]
  },
  {
   "cell_type": "code",
   "execution_count": 43,
   "id": "e70bd895-e318-4580-ac9f-2b224f82d2dc",
   "metadata": {},
   "outputs": [],
   "source": [
    "from sklearn.model_selection import train_test_split"
   ]
  },
  {
   "cell_type": "code",
   "execution_count": 45,
   "id": "9d48a670-8086-4f20-b40c-b7b1ebfcdc9a",
   "metadata": {},
   "outputs": [],
   "source": [
    "x_train, x_val, y_train, y_val = train_test_split(x_train, y_train, test_size = 0.1)"
   ]
  },
  {
   "cell_type": "code",
   "execution_count": 47,
   "id": "d100b0e0-1658-4b65-8cbf-72c773d7eb3d",
   "metadata": {},
   "outputs": [
    {
     "data": {
      "text/plain": [
       "54000"
      ]
     },
     "execution_count": 47,
     "metadata": {},
     "output_type": "execute_result"
    }
   ],
   "source": [
    "len(x_train)"
   ]
  },
  {
   "cell_type": "code",
   "execution_count": 49,
   "id": "07d454cc-91f9-4c08-9864-cd0b9cdef067",
   "metadata": {},
   "outputs": [],
   "source": [
    "x_train = (x_train - x_train.mean()) / x_train.std()\n",
    "x_val = (x_val - x_val.mean()) / x_val.std()\n",
    "x_test = (x_test - x_test.mean()) / x_test.std()"
   ]
  },
  {
   "cell_type": "code",
   "execution_count": 51,
   "id": "29547962-6bb8-44b2-a681-d69396d1c823",
   "metadata": {},
   "outputs": [
    {
     "data": {
      "text/plain": [
       "array([[[[-0.42402061],\n",
       "         [-0.42402061],\n",
       "         [-0.42402061],\n",
       "         ...,\n",
       "         [-0.42402061],\n",
       "         [-0.42402061],\n",
       "         [-0.42402061]],\n",
       "\n",
       "        [[-0.42402061],\n",
       "         [-0.42402061],\n",
       "         [-0.42402061],\n",
       "         ...,\n",
       "         [-0.42402061],\n",
       "         [-0.42402061],\n",
       "         [-0.42402061]],\n",
       "\n",
       "        [[-0.42402061],\n",
       "         [-0.42402061],\n",
       "         [-0.42402061],\n",
       "         ...,\n",
       "         [-0.42402061],\n",
       "         [-0.42402061],\n",
       "         [-0.42402061]],\n",
       "\n",
       "        ...,\n",
       "\n",
       "        [[-0.42402061],\n",
       "         [-0.42402061],\n",
       "         [-0.42402061],\n",
       "         ...,\n",
       "         [-0.42402061],\n",
       "         [-0.42402061],\n",
       "         [-0.42402061]],\n",
       "\n",
       "        [[-0.42402061],\n",
       "         [-0.42402061],\n",
       "         [-0.42402061],\n",
       "         ...,\n",
       "         [-0.42402061],\n",
       "         [-0.42402061],\n",
       "         [-0.42402061]],\n",
       "\n",
       "        [[-0.42402061],\n",
       "         [-0.42402061],\n",
       "         [-0.42402061],\n",
       "         ...,\n",
       "         [-0.42402061],\n",
       "         [-0.42402061],\n",
       "         [-0.42402061]]],\n",
       "\n",
       "\n",
       "       [[[-0.42402061],\n",
       "         [-0.42402061],\n",
       "         [-0.42402061],\n",
       "         ...,\n",
       "         [-0.42402061],\n",
       "         [-0.42402061],\n",
       "         [-0.42402061]],\n",
       "\n",
       "        [[-0.42402061],\n",
       "         [-0.42402061],\n",
       "         [-0.42402061],\n",
       "         ...,\n",
       "         [-0.42402061],\n",
       "         [-0.42402061],\n",
       "         [-0.42402061]],\n",
       "\n",
       "        [[-0.42402061],\n",
       "         [-0.42402061],\n",
       "         [-0.42402061],\n",
       "         ...,\n",
       "         [-0.42402061],\n",
       "         [-0.42402061],\n",
       "         [-0.42402061]],\n",
       "\n",
       "        ...,\n",
       "\n",
       "        [[-0.42402061],\n",
       "         [-0.42402061],\n",
       "         [-0.42402061],\n",
       "         ...,\n",
       "         [-0.42402061],\n",
       "         [-0.42402061],\n",
       "         [-0.42402061]],\n",
       "\n",
       "        [[-0.42402061],\n",
       "         [-0.42402061],\n",
       "         [-0.42402061],\n",
       "         ...,\n",
       "         [-0.42402061],\n",
       "         [-0.42402061],\n",
       "         [-0.42402061]],\n",
       "\n",
       "        [[-0.42402061],\n",
       "         [-0.42402061],\n",
       "         [-0.42402061],\n",
       "         ...,\n",
       "         [-0.42402061],\n",
       "         [-0.42402061],\n",
       "         [-0.42402061]]],\n",
       "\n",
       "\n",
       "       [[[-0.42402061],\n",
       "         [-0.42402061],\n",
       "         [-0.42402061],\n",
       "         ...,\n",
       "         [-0.42402061],\n",
       "         [-0.42402061],\n",
       "         [-0.42402061]],\n",
       "\n",
       "        [[-0.42402061],\n",
       "         [-0.42402061],\n",
       "         [-0.42402061],\n",
       "         ...,\n",
       "         [-0.42402061],\n",
       "         [-0.42402061],\n",
       "         [-0.42402061]],\n",
       "\n",
       "        [[-0.42402061],\n",
       "         [-0.42402061],\n",
       "         [-0.42402061],\n",
       "         ...,\n",
       "         [-0.42402061],\n",
       "         [-0.42402061],\n",
       "         [-0.42402061]],\n",
       "\n",
       "        ...,\n",
       "\n",
       "        [[-0.42402061],\n",
       "         [-0.42402061],\n",
       "         [-0.42402061],\n",
       "         ...,\n",
       "         [-0.42402061],\n",
       "         [-0.42402061],\n",
       "         [-0.42402061]],\n",
       "\n",
       "        [[-0.42402061],\n",
       "         [-0.42402061],\n",
       "         [-0.42402061],\n",
       "         ...,\n",
       "         [-0.42402061],\n",
       "         [-0.42402061],\n",
       "         [-0.42402061]],\n",
       "\n",
       "        [[-0.42402061],\n",
       "         [-0.42402061],\n",
       "         [-0.42402061],\n",
       "         ...,\n",
       "         [-0.42402061],\n",
       "         [-0.42402061],\n",
       "         [-0.42402061]]],\n",
       "\n",
       "\n",
       "       ...,\n",
       "\n",
       "\n",
       "       [[[-0.42402061],\n",
       "         [-0.42402061],\n",
       "         [-0.42402061],\n",
       "         ...,\n",
       "         [-0.42402061],\n",
       "         [-0.42402061],\n",
       "         [-0.42402061]],\n",
       "\n",
       "        [[-0.42402061],\n",
       "         [-0.42402061],\n",
       "         [-0.42402061],\n",
       "         ...,\n",
       "         [-0.42402061],\n",
       "         [-0.42402061],\n",
       "         [-0.42402061]],\n",
       "\n",
       "        [[-0.42402061],\n",
       "         [-0.42402061],\n",
       "         [-0.42402061],\n",
       "         ...,\n",
       "         [-0.42402061],\n",
       "         [-0.42402061],\n",
       "         [-0.42402061]],\n",
       "\n",
       "        ...,\n",
       "\n",
       "        [[-0.42402061],\n",
       "         [-0.42402061],\n",
       "         [-0.42402061],\n",
       "         ...,\n",
       "         [-0.42402061],\n",
       "         [-0.42402061],\n",
       "         [-0.42402061]],\n",
       "\n",
       "        [[-0.42402061],\n",
       "         [-0.42402061],\n",
       "         [-0.42402061],\n",
       "         ...,\n",
       "         [-0.42402061],\n",
       "         [-0.42402061],\n",
       "         [-0.42402061]],\n",
       "\n",
       "        [[-0.42402061],\n",
       "         [-0.42402061],\n",
       "         [-0.42402061],\n",
       "         ...,\n",
       "         [-0.42402061],\n",
       "         [-0.42402061],\n",
       "         [-0.42402061]]],\n",
       "\n",
       "\n",
       "       [[[-0.42402061],\n",
       "         [-0.42402061],\n",
       "         [-0.42402061],\n",
       "         ...,\n",
       "         [-0.42402061],\n",
       "         [-0.42402061],\n",
       "         [-0.42402061]],\n",
       "\n",
       "        [[-0.42402061],\n",
       "         [-0.42402061],\n",
       "         [-0.42402061],\n",
       "         ...,\n",
       "         [-0.42402061],\n",
       "         [-0.42402061],\n",
       "         [-0.42402061]],\n",
       "\n",
       "        [[-0.42402061],\n",
       "         [-0.42402061],\n",
       "         [-0.42402061],\n",
       "         ...,\n",
       "         [-0.42402061],\n",
       "         [-0.42402061],\n",
       "         [-0.42402061]],\n",
       "\n",
       "        ...,\n",
       "\n",
       "        [[-0.42402061],\n",
       "         [-0.42402061],\n",
       "         [-0.42402061],\n",
       "         ...,\n",
       "         [-0.42402061],\n",
       "         [-0.42402061],\n",
       "         [-0.42402061]],\n",
       "\n",
       "        [[-0.42402061],\n",
       "         [-0.42402061],\n",
       "         [-0.42402061],\n",
       "         ...,\n",
       "         [-0.42402061],\n",
       "         [-0.42402061],\n",
       "         [-0.42402061]],\n",
       "\n",
       "        [[-0.42402061],\n",
       "         [-0.42402061],\n",
       "         [-0.42402061],\n",
       "         ...,\n",
       "         [-0.42402061],\n",
       "         [-0.42402061],\n",
       "         [-0.42402061]]],\n",
       "\n",
       "\n",
       "       [[[-0.42402061],\n",
       "         [-0.42402061],\n",
       "         [-0.42402061],\n",
       "         ...,\n",
       "         [-0.42402061],\n",
       "         [-0.42402061],\n",
       "         [-0.42402061]],\n",
       "\n",
       "        [[-0.42402061],\n",
       "         [-0.42402061],\n",
       "         [-0.42402061],\n",
       "         ...,\n",
       "         [-0.42402061],\n",
       "         [-0.42402061],\n",
       "         [-0.42402061]],\n",
       "\n",
       "        [[-0.42402061],\n",
       "         [-0.42402061],\n",
       "         [-0.42402061],\n",
       "         ...,\n",
       "         [-0.42402061],\n",
       "         [-0.42402061],\n",
       "         [-0.42402061]],\n",
       "\n",
       "        ...,\n",
       "\n",
       "        [[-0.42402061],\n",
       "         [-0.42402061],\n",
       "         [-0.42402061],\n",
       "         ...,\n",
       "         [-0.42402061],\n",
       "         [-0.42402061],\n",
       "         [-0.42402061]],\n",
       "\n",
       "        [[-0.42402061],\n",
       "         [-0.42402061],\n",
       "         [-0.42402061],\n",
       "         ...,\n",
       "         [-0.42402061],\n",
       "         [-0.42402061],\n",
       "         [-0.42402061]],\n",
       "\n",
       "        [[-0.42402061],\n",
       "         [-0.42402061],\n",
       "         [-0.42402061],\n",
       "         ...,\n",
       "         [-0.42402061],\n",
       "         [-0.42402061],\n",
       "         [-0.42402061]]]])"
      ]
     },
     "execution_count": 51,
     "metadata": {},
     "output_type": "execute_result"
    }
   ],
   "source": [
    "x_train\n"
   ]
  },
  {
   "cell_type": "code",
   "execution_count": 53,
   "id": "db461d4a-7d2e-4906-978a-e4a9878acb3c",
   "metadata": {},
   "outputs": [
    {
     "data": {
      "text/plain": [
       "array([6, 4, 9, ..., 3, 1, 0], dtype=uint8)"
      ]
     },
     "execution_count": 53,
     "metadata": {},
     "output_type": "execute_result"
    }
   ],
   "source": [
    "y_train"
   ]
  },
  {
   "cell_type": "code",
   "execution_count": 55,
   "id": "bd708942-624e-4786-a86f-b9909c082c80",
   "metadata": {},
   "outputs": [],
   "source": [
    "from tensorflow import keras"
   ]
  },
  {
   "cell_type": "code",
   "execution_count": 59,
   "id": "add98e3d-1a69-4166-9064-2727ebddec1b",
   "metadata": {},
   "outputs": [],
   "source": [
    "num_labels = 10\n",
    "\n",
    "y_train = keras.utils.to_categorical(y_train)"
   ]
  },
  {
   "cell_type": "code",
   "execution_count": 61,
   "id": "fda31e51-6593-4e76-82b9-f2ec2e1e34d1",
   "metadata": {},
   "outputs": [
    {
     "data": {
      "text/plain": [
       "array([[0., 0., 0., ..., 0., 0., 0.],\n",
       "       [0., 0., 0., ..., 0., 0., 0.],\n",
       "       [0., 0., 0., ..., 0., 0., 1.],\n",
       "       ...,\n",
       "       [0., 0., 0., ..., 0., 0., 0.],\n",
       "       [0., 1., 0., ..., 0., 0., 0.],\n",
       "       [1., 0., 0., ..., 0., 0., 0.]])"
      ]
     },
     "execution_count": 61,
     "metadata": {},
     "output_type": "execute_result"
    }
   ],
   "source": [
    "y_train"
   ]
  },
  {
   "cell_type": "code",
   "execution_count": 63,
   "id": "a157a0dd-1871-4c5b-9dcf-4ba6ec39b99a",
   "metadata": {},
   "outputs": [],
   "source": [
    "y_val = keras.utils.to_categorical(y_val)\n",
    "y_test = keras.utils.to_categorical(y_test)"
   ]
  },
  {
   "cell_type": "code",
   "execution_count": null,
   "id": "a207749a-3b45-4dcc-9df7-667a4e868ad4",
   "metadata": {},
   "outputs": [],
   "source": []
  },
  {
   "cell_type": "markdown",
   "id": "a025294e-3493-401d-b9e5-af7eb27f4a0d",
   "metadata": {},
   "source": [
    "###Model"
   ]
  },
  {
   "cell_type": "code",
   "execution_count": 77,
   "id": "f844aa67-d301-4ccf-a838-f7f45faf1c2d",
   "metadata": {},
   "outputs": [],
   "source": [
    "from tensorflow.keras.models import Sequential\n",
    "from tensorflow.keras.layers import Dense, Dropout, Flatten, Input, Conv2D, MaxPooling2D, AveragePooling2D"
   ]
  },
  {
   "cell_type": "code",
   "execution_count": 81,
   "id": "a9ae615e-1c64-4c47-922f-5978b08344b4",
   "metadata": {},
   "outputs": [],
   "source": [
    "model = Sequential()\n",
    "\n",
    "model.add(Conv2D(6, kernel_size = (5, 5), strides = (1, 1), activation = 'tanh', input_shape = (28, 28, 1)))\n",
    "model.add(AveragePooling2D(pool_size = (2, 2), strides = (1, 1)))\n",
    "model.add(Conv2D(16, kernel_size = (5, 5), strides = (1, 1), activation = 'tanh'))\n",
    "model.add(AveragePooling2D(pool_size = (2, 2), strides = (2, 2)))\n",
    "model.add(Conv2D(120, kernel_size = (5, 5), strides = (1, 1), activation = 'tanh'))\n",
    "\n",
    "model.add(Flatten())\n",
    "model.add(Dense(84, activation = 'tanh'))\n",
    "model.add(Dense(num_labels, activation = 'softmax'))"
   ]
  },
  {
   "cell_type": "code",
   "execution_count": 85,
   "id": "306c9243-b517-4edf-8be7-1a256635b935",
   "metadata": {},
   "outputs": [
    {
     "data": {
      "text/html": [
       "<pre style=\"white-space:pre;overflow-x:auto;line-height:normal;font-family:Menlo,'DejaVu Sans Mono',consolas,'Courier New',monospace\"><span style=\"font-weight: bold\">Model: \"sequential_2\"</span>\n",
       "</pre>\n"
      ],
      "text/plain": [
       "\u001b[1mModel: \"sequential_2\"\u001b[0m\n"
      ]
     },
     "metadata": {},
     "output_type": "display_data"
    },
    {
     "data": {
      "text/html": [
       "<pre style=\"white-space:pre;overflow-x:auto;line-height:normal;font-family:Menlo,'DejaVu Sans Mono',consolas,'Courier New',monospace\">┏━━━━━━━━━━━━━━━━━━━━━━━━━━━━━━━━━━━━━━┳━━━━━━━━━━━━━━━━━━━━━━━━━━━━━┳━━━━━━━━━━━━━━━━━┓\n",
       "┃<span style=\"font-weight: bold\"> Layer (type)                         </span>┃<span style=\"font-weight: bold\"> Output Shape                </span>┃<span style=\"font-weight: bold\">         Param # </span>┃\n",
       "┡━━━━━━━━━━━━━━━━━━━━━━━━━━━━━━━━━━━━━━╇━━━━━━━━━━━━━━━━━━━━━━━━━━━━━╇━━━━━━━━━━━━━━━━━┩\n",
       "│ conv2d_2 (<span style=\"color: #0087ff; text-decoration-color: #0087ff\">Conv2D</span>)                    │ (<span style=\"color: #00d7ff; text-decoration-color: #00d7ff\">None</span>, <span style=\"color: #00af00; text-decoration-color: #00af00\">24</span>, <span style=\"color: #00af00; text-decoration-color: #00af00\">24</span>, <span style=\"color: #00af00; text-decoration-color: #00af00\">6</span>)           │             <span style=\"color: #00af00; text-decoration-color: #00af00\">156</span> │\n",
       "├──────────────────────────────────────┼─────────────────────────────┼─────────────────┤\n",
       "│ average_pooling2d (<span style=\"color: #0087ff; text-decoration-color: #0087ff\">AveragePooling2D</span>) │ (<span style=\"color: #00d7ff; text-decoration-color: #00d7ff\">None</span>, <span style=\"color: #00af00; text-decoration-color: #00af00\">23</span>, <span style=\"color: #00af00; text-decoration-color: #00af00\">23</span>, <span style=\"color: #00af00; text-decoration-color: #00af00\">6</span>)           │               <span style=\"color: #00af00; text-decoration-color: #00af00\">0</span> │\n",
       "├──────────────────────────────────────┼─────────────────────────────┼─────────────────┤\n",
       "│ conv2d_3 (<span style=\"color: #0087ff; text-decoration-color: #0087ff\">Conv2D</span>)                    │ (<span style=\"color: #00d7ff; text-decoration-color: #00d7ff\">None</span>, <span style=\"color: #00af00; text-decoration-color: #00af00\">19</span>, <span style=\"color: #00af00; text-decoration-color: #00af00\">19</span>, <span style=\"color: #00af00; text-decoration-color: #00af00\">16</span>)          │           <span style=\"color: #00af00; text-decoration-color: #00af00\">2,416</span> │\n",
       "├──────────────────────────────────────┼─────────────────────────────┼─────────────────┤\n",
       "│ average_pooling2d_1                  │ (<span style=\"color: #00d7ff; text-decoration-color: #00d7ff\">None</span>, <span style=\"color: #00af00; text-decoration-color: #00af00\">9</span>, <span style=\"color: #00af00; text-decoration-color: #00af00\">9</span>, <span style=\"color: #00af00; text-decoration-color: #00af00\">16</span>)            │               <span style=\"color: #00af00; text-decoration-color: #00af00\">0</span> │\n",
       "│ (<span style=\"color: #0087ff; text-decoration-color: #0087ff\">AveragePooling2D</span>)                   │                             │                 │\n",
       "├──────────────────────────────────────┼─────────────────────────────┼─────────────────┤\n",
       "│ conv2d_4 (<span style=\"color: #0087ff; text-decoration-color: #0087ff\">Conv2D</span>)                    │ (<span style=\"color: #00d7ff; text-decoration-color: #00d7ff\">None</span>, <span style=\"color: #00af00; text-decoration-color: #00af00\">5</span>, <span style=\"color: #00af00; text-decoration-color: #00af00\">5</span>, <span style=\"color: #00af00; text-decoration-color: #00af00\">120</span>)           │          <span style=\"color: #00af00; text-decoration-color: #00af00\">48,120</span> │\n",
       "├──────────────────────────────────────┼─────────────────────────────┼─────────────────┤\n",
       "│ flatten (<span style=\"color: #0087ff; text-decoration-color: #0087ff\">Flatten</span>)                    │ (<span style=\"color: #00d7ff; text-decoration-color: #00d7ff\">None</span>, <span style=\"color: #00af00; text-decoration-color: #00af00\">3000</span>)                │               <span style=\"color: #00af00; text-decoration-color: #00af00\">0</span> │\n",
       "├──────────────────────────────────────┼─────────────────────────────┼─────────────────┤\n",
       "│ dense (<span style=\"color: #0087ff; text-decoration-color: #0087ff\">Dense</span>)                        │ (<span style=\"color: #00d7ff; text-decoration-color: #00d7ff\">None</span>, <span style=\"color: #00af00; text-decoration-color: #00af00\">84</span>)                  │         <span style=\"color: #00af00; text-decoration-color: #00af00\">252,084</span> │\n",
       "├──────────────────────────────────────┼─────────────────────────────┼─────────────────┤\n",
       "│ dense_1 (<span style=\"color: #0087ff; text-decoration-color: #0087ff\">Dense</span>)                      │ (<span style=\"color: #00d7ff; text-decoration-color: #00d7ff\">None</span>, <span style=\"color: #00af00; text-decoration-color: #00af00\">10</span>)                  │             <span style=\"color: #00af00; text-decoration-color: #00af00\">850</span> │\n",
       "└──────────────────────────────────────┴─────────────────────────────┴─────────────────┘\n",
       "</pre>\n"
      ],
      "text/plain": [
       "┏━━━━━━━━━━━━━━━━━━━━━━━━━━━━━━━━━━━━━━┳━━━━━━━━━━━━━━━━━━━━━━━━━━━━━┳━━━━━━━━━━━━━━━━━┓\n",
       "┃\u001b[1m \u001b[0m\u001b[1mLayer (type)                        \u001b[0m\u001b[1m \u001b[0m┃\u001b[1m \u001b[0m\u001b[1mOutput Shape               \u001b[0m\u001b[1m \u001b[0m┃\u001b[1m \u001b[0m\u001b[1m        Param #\u001b[0m\u001b[1m \u001b[0m┃\n",
       "┡━━━━━━━━━━━━━━━━━━━━━━━━━━━━━━━━━━━━━━╇━━━━━━━━━━━━━━━━━━━━━━━━━━━━━╇━━━━━━━━━━━━━━━━━┩\n",
       "│ conv2d_2 (\u001b[38;5;33mConv2D\u001b[0m)                    │ (\u001b[38;5;45mNone\u001b[0m, \u001b[38;5;34m24\u001b[0m, \u001b[38;5;34m24\u001b[0m, \u001b[38;5;34m6\u001b[0m)           │             \u001b[38;5;34m156\u001b[0m │\n",
       "├──────────────────────────────────────┼─────────────────────────────┼─────────────────┤\n",
       "│ average_pooling2d (\u001b[38;5;33mAveragePooling2D\u001b[0m) │ (\u001b[38;5;45mNone\u001b[0m, \u001b[38;5;34m23\u001b[0m, \u001b[38;5;34m23\u001b[0m, \u001b[38;5;34m6\u001b[0m)           │               \u001b[38;5;34m0\u001b[0m │\n",
       "├──────────────────────────────────────┼─────────────────────────────┼─────────────────┤\n",
       "│ conv2d_3 (\u001b[38;5;33mConv2D\u001b[0m)                    │ (\u001b[38;5;45mNone\u001b[0m, \u001b[38;5;34m19\u001b[0m, \u001b[38;5;34m19\u001b[0m, \u001b[38;5;34m16\u001b[0m)          │           \u001b[38;5;34m2,416\u001b[0m │\n",
       "├──────────────────────────────────────┼─────────────────────────────┼─────────────────┤\n",
       "│ average_pooling2d_1                  │ (\u001b[38;5;45mNone\u001b[0m, \u001b[38;5;34m9\u001b[0m, \u001b[38;5;34m9\u001b[0m, \u001b[38;5;34m16\u001b[0m)            │               \u001b[38;5;34m0\u001b[0m │\n",
       "│ (\u001b[38;5;33mAveragePooling2D\u001b[0m)                   │                             │                 │\n",
       "├──────────────────────────────────────┼─────────────────────────────┼─────────────────┤\n",
       "│ conv2d_4 (\u001b[38;5;33mConv2D\u001b[0m)                    │ (\u001b[38;5;45mNone\u001b[0m, \u001b[38;5;34m5\u001b[0m, \u001b[38;5;34m5\u001b[0m, \u001b[38;5;34m120\u001b[0m)           │          \u001b[38;5;34m48,120\u001b[0m │\n",
       "├──────────────────────────────────────┼─────────────────────────────┼─────────────────┤\n",
       "│ flatten (\u001b[38;5;33mFlatten\u001b[0m)                    │ (\u001b[38;5;45mNone\u001b[0m, \u001b[38;5;34m3000\u001b[0m)                │               \u001b[38;5;34m0\u001b[0m │\n",
       "├──────────────────────────────────────┼─────────────────────────────┼─────────────────┤\n",
       "│ dense (\u001b[38;5;33mDense\u001b[0m)                        │ (\u001b[38;5;45mNone\u001b[0m, \u001b[38;5;34m84\u001b[0m)                  │         \u001b[38;5;34m252,084\u001b[0m │\n",
       "├──────────────────────────────────────┼─────────────────────────────┼─────────────────┤\n",
       "│ dense_1 (\u001b[38;5;33mDense\u001b[0m)                      │ (\u001b[38;5;45mNone\u001b[0m, \u001b[38;5;34m10\u001b[0m)                  │             \u001b[38;5;34m850\u001b[0m │\n",
       "└──────────────────────────────────────┴─────────────────────────────┴─────────────────┘\n"
      ]
     },
     "metadata": {},
     "output_type": "display_data"
    },
    {
     "data": {
      "text/html": [
       "<pre style=\"white-space:pre;overflow-x:auto;line-height:normal;font-family:Menlo,'DejaVu Sans Mono',consolas,'Courier New',monospace\"><span style=\"font-weight: bold\"> Total params: </span><span style=\"color: #00af00; text-decoration-color: #00af00\">303,626</span> (1.16 MB)\n",
       "</pre>\n"
      ],
      "text/plain": [
       "\u001b[1m Total params: \u001b[0m\u001b[38;5;34m303,626\u001b[0m (1.16 MB)\n"
      ]
     },
     "metadata": {},
     "output_type": "display_data"
    },
    {
     "data": {
      "text/html": [
       "<pre style=\"white-space:pre;overflow-x:auto;line-height:normal;font-family:Menlo,'DejaVu Sans Mono',consolas,'Courier New',monospace\"><span style=\"font-weight: bold\"> Trainable params: </span><span style=\"color: #00af00; text-decoration-color: #00af00\">303,626</span> (1.16 MB)\n",
       "</pre>\n"
      ],
      "text/plain": [
       "\u001b[1m Trainable params: \u001b[0m\u001b[38;5;34m303,626\u001b[0m (1.16 MB)\n"
      ]
     },
     "metadata": {},
     "output_type": "display_data"
    },
    {
     "data": {
      "text/html": [
       "<pre style=\"white-space:pre;overflow-x:auto;line-height:normal;font-family:Menlo,'DejaVu Sans Mono',consolas,'Courier New',monospace\"><span style=\"font-weight: bold\"> Non-trainable params: </span><span style=\"color: #00af00; text-decoration-color: #00af00\">0</span> (0.00 B)\n",
       "</pre>\n"
      ],
      "text/plain": [
       "\u001b[1m Non-trainable params: \u001b[0m\u001b[38;5;34m0\u001b[0m (0.00 B)\n"
      ]
     },
     "metadata": {},
     "output_type": "display_data"
    }
   ],
   "source": [
    "model.summary()"
   ]
  },
  {
   "cell_type": "code",
   "execution_count": 87,
   "id": "27495768-1e25-4bc8-a724-e22cd38a1cd2",
   "metadata": {},
   "outputs": [],
   "source": [
    "model.compile(loss = keras.losses.categorical_crossentropy, optimizer = 'adam', metrics = ['accuracy'])"
   ]
  },
  {
   "cell_type": "code",
   "execution_count": 89,
   "id": "0af5296d-18e6-4cd9-94d0-797134d1c5d0",
   "metadata": {},
   "outputs": [
    {
     "name": "stdout",
     "output_type": "stream",
     "text": [
      "Epoch 1/20\n",
      "\u001b[1m1688/1688\u001b[0m \u001b[32m━━━━━━━━━━━━━━━━━━━━\u001b[0m\u001b[37m\u001b[0m \u001b[1m7s\u001b[0m 4ms/step - accuracy: 0.9023 - loss: 0.3134 - val_accuracy: 0.9678 - val_loss: 0.1020\n",
      "Epoch 2/20\n",
      "\u001b[1m1688/1688\u001b[0m \u001b[32m━━━━━━━━━━━━━━━━━━━━\u001b[0m\u001b[37m\u001b[0m \u001b[1m6s\u001b[0m 3ms/step - accuracy: 0.9700 - loss: 0.1008 - val_accuracy: 0.9748 - val_loss: 0.0829\n",
      "Epoch 3/20\n",
      "\u001b[1m1688/1688\u001b[0m \u001b[32m━━━━━━━━━━━━━━━━━━━━\u001b[0m\u001b[37m\u001b[0m \u001b[1m6s\u001b[0m 4ms/step - accuracy: 0.9767 - loss: 0.0778 - val_accuracy: 0.9758 - val_loss: 0.0774\n",
      "Epoch 4/20\n",
      "\u001b[1m1688/1688\u001b[0m \u001b[32m━━━━━━━━━━━━━━━━━━━━\u001b[0m\u001b[37m\u001b[0m \u001b[1m6s\u001b[0m 4ms/step - accuracy: 0.9786 - loss: 0.0721 - val_accuracy: 0.9820 - val_loss: 0.0606\n",
      "Epoch 5/20\n",
      "\u001b[1m1688/1688\u001b[0m \u001b[32m━━━━━━━━━━━━━━━━━━━━\u001b[0m\u001b[37m\u001b[0m \u001b[1m6s\u001b[0m 4ms/step - accuracy: 0.9796 - loss: 0.0638 - val_accuracy: 0.9748 - val_loss: 0.0794\n",
      "Epoch 6/20\n",
      "\u001b[1m1688/1688\u001b[0m \u001b[32m━━━━━━━━━━━━━━━━━━━━\u001b[0m\u001b[37m\u001b[0m \u001b[1m6s\u001b[0m 4ms/step - accuracy: 0.9807 - loss: 0.0603 - val_accuracy: 0.9820 - val_loss: 0.0616\n",
      "Epoch 7/20\n",
      "\u001b[1m1688/1688\u001b[0m \u001b[32m━━━━━━━━━━━━━━━━━━━━\u001b[0m\u001b[37m\u001b[0m \u001b[1m6s\u001b[0m 4ms/step - accuracy: 0.9822 - loss: 0.0566 - val_accuracy: 0.9813 - val_loss: 0.0613\n",
      "Epoch 8/20\n",
      "\u001b[1m1688/1688\u001b[0m \u001b[32m━━━━━━━━━━━━━━━━━━━━\u001b[0m\u001b[37m\u001b[0m \u001b[1m6s\u001b[0m 4ms/step - accuracy: 0.9829 - loss: 0.0538 - val_accuracy: 0.9807 - val_loss: 0.0630\n",
      "Epoch 9/20\n",
      "\u001b[1m1688/1688\u001b[0m \u001b[32m━━━━━━━━━━━━━━━━━━━━\u001b[0m\u001b[37m\u001b[0m \u001b[1m6s\u001b[0m 4ms/step - accuracy: 0.9855 - loss: 0.0469 - val_accuracy: 0.9815 - val_loss: 0.0635\n",
      "Epoch 10/20\n",
      "\u001b[1m1688/1688\u001b[0m \u001b[32m━━━━━━━━━━━━━━━━━━━━\u001b[0m\u001b[37m\u001b[0m \u001b[1m6s\u001b[0m 4ms/step - accuracy: 0.9851 - loss: 0.0474 - val_accuracy: 0.9852 - val_loss: 0.0535\n",
      "Epoch 11/20\n",
      "\u001b[1m1688/1688\u001b[0m \u001b[32m━━━━━━━━━━━━━━━━━━━━\u001b[0m\u001b[37m\u001b[0m \u001b[1m6s\u001b[0m 4ms/step - accuracy: 0.9848 - loss: 0.0492 - val_accuracy: 0.9835 - val_loss: 0.0582\n",
      "Epoch 12/20\n",
      "\u001b[1m1688/1688\u001b[0m \u001b[32m━━━━━━━━━━━━━━━━━━━━\u001b[0m\u001b[37m\u001b[0m \u001b[1m6s\u001b[0m 4ms/step - accuracy: 0.9873 - loss: 0.0405 - val_accuracy: 0.9842 - val_loss: 0.0530\n",
      "Epoch 13/20\n",
      "\u001b[1m1688/1688\u001b[0m \u001b[32m━━━━━━━━━━━━━━━━━━━━\u001b[0m\u001b[37m\u001b[0m \u001b[1m6s\u001b[0m 4ms/step - accuracy: 0.9871 - loss: 0.0397 - val_accuracy: 0.9820 - val_loss: 0.0608\n",
      "Epoch 14/20\n",
      "\u001b[1m1688/1688\u001b[0m \u001b[32m━━━━━━━━━━━━━━━━━━━━\u001b[0m\u001b[37m\u001b[0m \u001b[1m6s\u001b[0m 4ms/step - accuracy: 0.9873 - loss: 0.0412 - val_accuracy: 0.9857 - val_loss: 0.0552\n",
      "Epoch 15/20\n",
      "\u001b[1m1688/1688\u001b[0m \u001b[32m━━━━━━━━━━━━━━━━━━━━\u001b[0m\u001b[37m\u001b[0m \u001b[1m6s\u001b[0m 4ms/step - accuracy: 0.9879 - loss: 0.0380 - val_accuracy: 0.9830 - val_loss: 0.0577\n",
      "Epoch 16/20\n",
      "\u001b[1m1688/1688\u001b[0m \u001b[32m━━━━━━━━━━━━━━━━━━━━\u001b[0m\u001b[37m\u001b[0m \u001b[1m6s\u001b[0m 4ms/step - accuracy: 0.9873 - loss: 0.0407 - val_accuracy: 0.9848 - val_loss: 0.0542\n",
      "Epoch 17/20\n",
      "\u001b[1m1688/1688\u001b[0m \u001b[32m━━━━━━━━━━━━━━━━━━━━\u001b[0m\u001b[37m\u001b[0m \u001b[1m6s\u001b[0m 3ms/step - accuracy: 0.9877 - loss: 0.0375 - val_accuracy: 0.9857 - val_loss: 0.0519\n",
      "Epoch 18/20\n",
      "\u001b[1m1688/1688\u001b[0m \u001b[32m━━━━━━━━━━━━━━━━━━━━\u001b[0m\u001b[37m\u001b[0m \u001b[1m6s\u001b[0m 3ms/step - accuracy: 0.9877 - loss: 0.0395 - val_accuracy: 0.9843 - val_loss: 0.0538\n",
      "Epoch 19/20\n",
      "\u001b[1m1688/1688\u001b[0m \u001b[32m━━━━━━━━━━━━━━━━━━━━\u001b[0m\u001b[37m\u001b[0m \u001b[1m6s\u001b[0m 3ms/step - accuracy: 0.9885 - loss: 0.0366 - val_accuracy: 0.9850 - val_loss: 0.0499\n",
      "Epoch 20/20\n",
      "\u001b[1m1688/1688\u001b[0m \u001b[32m━━━━━━━━━━━━━━━━━━━━\u001b[0m\u001b[37m\u001b[0m \u001b[1m6s\u001b[0m 3ms/step - accuracy: 0.9902 - loss: 0.0314 - val_accuracy: 0.9833 - val_loss: 0.0552\n"
     ]
    }
   ],
   "source": [
    "history = model.fit(x_train, y_train, batch_size = 32, epochs = 20, verbose = 1, validation_data = (x_val, y_val))"
   ]
  },
  {
   "cell_type": "code",
   "execution_count": 91,
   "id": "c8708238-398c-468d-96a0-354f413d812c",
   "metadata": {},
   "outputs": [
    {
     "name": "stdout",
     "output_type": "stream",
     "text": [
      "\u001b[1m313/313\u001b[0m \u001b[32m━━━━━━━━━━━━━━━━━━━━\u001b[0m\u001b[37m\u001b[0m \u001b[1m0s\u001b[0m 1ms/step - accuracy: 0.9811 - loss: 0.0631\n"
     ]
    }
   ],
   "source": [
    "score = model.evaluate(x_test, y_test, verbose = 1)"
   ]
  },
  {
   "cell_type": "code",
   "execution_count": 93,
   "id": "97a379b5-fad2-4f9a-88aa-f9fabec4408c",
   "metadata": {},
   "outputs": [
    {
     "data": {
      "text/plain": [
       "[0.051269665360450745, 0.9843999743461609]"
      ]
     },
     "execution_count": 93,
     "metadata": {},
     "output_type": "execute_result"
    }
   ],
   "source": [
    "score"
   ]
  },
  {
   "cell_type": "code",
   "execution_count": 97,
   "id": "ce6793da-0d46-4a7b-a21a-a9c69d122f7e",
   "metadata": {},
   "outputs": [
    {
     "name": "stdout",
     "output_type": "stream",
     "text": [
      "Collecting pandoc\n",
      "  Downloading pandoc-2.4.tar.gz (34 kB)\n",
      "  Preparing metadata (setup.py): started\n",
      "  Preparing metadata (setup.py): finished with status 'done'\n",
      "Collecting plumbum (from pandoc)\n",
      "  Downloading plumbum-1.8.3-py3-none-any.whl.metadata (10 kB)\n",
      "Requirement already satisfied: ply in c:\\users\\thushar\\anaconda3\\lib\\site-packages (from pandoc) (3.11)\n",
      "Requirement already satisfied: pywin32 in c:\\users\\thushar\\anaconda3\\lib\\site-packages (from plumbum->pandoc) (305.1)\n",
      "Downloading plumbum-1.8.3-py3-none-any.whl (127 kB)\n",
      "Building wheels for collected packages: pandoc\n",
      "  Building wheel for pandoc (setup.py): started\n",
      "  Building wheel for pandoc (setup.py): finished with status 'done'\n",
      "  Created wheel for pandoc: filename=pandoc-2.4-py3-none-any.whl size=34820 sha256=72a92925638dd65ddf2ef54d8c2478c3ac144a80b532ffdee60e4533d8db2b02\n",
      "  Stored in directory: c:\\users\\thushar\\appdata\\local\\pip\\cache\\wheels\\4f\\d7\\32\\c6c9b7b05e852e920fd72174487be3a0f18e633a7adcc303be\n",
      "Successfully built pandoc\n",
      "Installing collected packages: plumbum, pandoc\n",
      "Successfully installed pandoc-2.4 plumbum-1.8.3\n"
     ]
    }
   ],
   "source": [
    "!pip install pandoc"
   ]
  },
  {
   "cell_type": "code",
   "execution_count": null,
   "id": "48394e9d-a775-414f-ac6a-53d60f95cb3a",
   "metadata": {},
   "outputs": [],
   "source": []
  }
 ],
 "metadata": {
  "kernelspec": {
   "display_name": "Python 3 (ipykernel)",
   "language": "python",
   "name": "python3"
  },
  "language_info": {
   "codemirror_mode": {
    "name": "ipython",
    "version": 3
   },
   "file_extension": ".py",
   "mimetype": "text/x-python",
   "name": "python",
   "nbconvert_exporter": "python",
   "pygments_lexer": "ipython3",
   "version": "3.11.7"
  }
 },
 "nbformat": 4,
 "nbformat_minor": 5
}
